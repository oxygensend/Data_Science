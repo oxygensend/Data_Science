{
 "metadata": {
  "language_info": {
   "codemirror_mode": {
    "name": "ipython",
    "version": 3
   },
   "file_extension": ".py",
   "mimetype": "text/x-python",
   "name": "python",
   "nbconvert_exporter": "python",
   "pygments_lexer": "ipython3",
   "version": "3.8.5-final"
  },
  "orig_nbformat": 2,
  "kernelspec": {
   "name": "python385jvsc74a57bd09625bcfe5cd3dfec619ce035c1d8d2496d74ed16b62b4417feab419ffa89f3de",
   "display_name": "Python 3.8.5 64-bit ('base': conda)"
  },
  "metadata": {
   "interpreter": {
    "hash": "9625bcfe5cd3dfec619ce035c1d8d2496d74ed16b62b4417feab419ffa89f3de"
   }
  }
 },
 "nbformat": 4,
 "nbformat_minor": 2,
 "cells": [
  {
   "cell_type": "code",
   "execution_count": 78,
   "metadata": {},
   "outputs": [
    {
     "output_type": "stream",
     "name": "stdout",
     "text": [
      "Kod stanu: 200\n"
     ]
    }
   ],
   "source": [
    "import requests\n",
    "import plotly.graph_objects as go\n",
    "from plotly import offline\n",
    "url = 'https://api.github.com/search/repositories?q=language:python&sort=stars'\n",
    "r = requests.get(url)\n",
    "print(f'Kod stanu: {r.status_code}')\n",
    "response_dict = r.json()\n",
    "repo_dicts = response_dict['items']\n"
   ]
  },
  {
   "cell_type": "code",
   "execution_count": 81,
   "metadata": {},
   "outputs": [
    {
     "output_type": "stream",
     "name": "stdout",
     "text": [
      "Całkowita liczba respozytoriów: 6831529\nLiczba zwróconych respozytoriów: 30\n\nKlucze: 30\n"
     ]
    }
   ],
   "source": [
    "print(f'Całkowita liczba respozytoriów: {response_dict[\"total_count\"]}')\n",
    "print(f'Liczba zwróconych respozytoriów: {len(repo_dicts)}')\n",
    "print(f'\\nKlucze: {len(repo_dicts)}')"
   ]
  },
  {
   "cell_type": "code",
   "execution_count": 82,
   "metadata": {},
   "outputs": [
    {
     "output_type": "stream",
     "name": "stdout",
     "text": [
      "\nWybrane informacje o każdym repozytorium:\nNazwa: system-design-primer\nWłaściciel: donnemartin\nGwiazdki: 125764\nRezpozytorium: https://github.com/donnemartin/system-design-primer\nUtworzone: 2017-02-26T16:15:28Z\nUaktualnione: 2021-04-07T11:07:19Z\nOpis: Learn how to design large-scale systems. Prep for the system design interview.  Includes Anki flashcards.\n\nNazwa: Python-100-Days\nWłaściciel: jackfrued\nGwiazdki: 101391\nRezpozytorium: https://github.com/jackfrued/Python-100-Days\nUtworzone: 2018-03-01T16:05:52Z\nUaktualnione: 2021-04-07T11:08:34Z\nOpis: Python - 100天从新手到大师\n\nNazwa: awesome-python\nWłaściciel: vinta\nGwiazdki: 95631\nRezpozytorium: https://github.com/vinta/awesome-python\nUtworzone: 2014-06-27T21:00:06Z\nUaktualnione: 2021-04-07T10:24:27Z\nOpis: A curated list of awesome Python frameworks, libraries, software and resources\n\nNazwa: models\nWłaściciel: tensorflow\nGwiazdki: 69374\nRezpozytorium: https://github.com/tensorflow/models\nUtworzone: 2016-02-05T01:15:20Z\nUaktualnione: 2021-04-07T08:40:41Z\nOpis: Models and examples built with TensorFlow\n\nNazwa: thefuck\nWłaściciel: nvbn\nGwiazdki: 59668\nRezpozytorium: https://github.com/nvbn/thefuck\nUtworzone: 2015-04-08T15:08:04Z\nUaktualnione: 2021-04-07T10:57:46Z\nOpis: Magnificent app which corrects your previous console command.\n\nNazwa: django\nWłaściciel: django\nGwiazdki: 56611\nRezpozytorium: https://github.com/django/django\nUtworzone: 2012-04-28T02:47:18Z\nUaktualnione: 2021-04-07T08:31:31Z\nOpis: The Web framework for perfectionists with deadlines.\n\nNazwa: keras\nWłaściciel: keras-team\nGwiazdki: 50981\nRezpozytorium: https://github.com/keras-team/keras\nUtworzone: 2015-03-28T00:35:42Z\nUaktualnione: 2021-04-07T08:09:01Z\nOpis: Deep Learning for humans\n\nNazwa: httpie\nWłaściciel: httpie\nGwiazdki: 50370\nRezpozytorium: https://github.com/httpie/httpie\nUtworzone: 2012-02-25T12:39:13Z\nUaktualnione: 2021-04-07T10:27:13Z\nOpis: As easy as /aitch-tee-tee-pie/ 🥧 Modern, user-friendly command-line HTTP client for the API era. JSON support, colors, sessions, downloads, plugins & more. https://twitter.com/httpie\n\nNazwa: scikit-learn\nWłaściciel: scikit-learn\nGwiazdki: 45131\nRezpozytorium: https://github.com/scikit-learn/scikit-learn\nUtworzone: 2010-08-17T09:43:38Z\nUaktualnione: 2021-04-07T10:50:06Z\nOpis: scikit-learn: machine learning in Python\n\nNazwa: requests\nWłaściciel: psf\nGwiazdki: 44911\nRezpozytorium: https://github.com/psf/requests\nUtworzone: 2011-02-13T18:38:17Z\nUaktualnione: 2021-04-07T07:02:57Z\nOpis: A simple, yet elegant HTTP library.\n\nNazwa: HelloGitHub\nWłaściciel: 521xueweihan\nGwiazdki: 39729\nRezpozytorium: https://github.com/521xueweihan/HelloGitHub\nUtworzone: 2016-05-04T06:24:11Z\nUaktualnione: 2021-04-07T10:48:58Z\nOpis: :octocat: 分享 GitHub 上有趣、入门级的开源项目（5 周年）\n\nNazwa: face_recognition\nWłaściciel: ageitgey\nGwiazdki: 39285\nRezpozytorium: https://github.com/ageitgey/face_recognition\nUtworzone: 2017-03-03T21:52:39Z\nUaktualnione: 2021-04-07T09:05:42Z\nOpis: The world's simplest facial recognition api for Python and the command line\n\nNazwa: cpython\nWłaściciel: python\nGwiazdki: 37119\nRezpozytorium: https://github.com/python/cpython\nUtworzone: 2017-02-10T19:23:51Z\nUaktualnione: 2021-04-07T11:01:25Z\nOpis: The Python programming language\n\nNazwa: faceswap\nWłaściciel: deepfakes\nGwiazdki: 34836\nRezpozytorium: https://github.com/deepfakes/faceswap\nUtworzone: 2017-12-19T09:44:13Z\nUaktualnione: 2021-04-07T09:27:57Z\nOpis: Deepfakes Software For All\n\nNazwa: shadowsocks\nWłaściciel: shadowsocks\nGwiazdki: 32981\nRezpozytorium: https://github.com/shadowsocks/shadowsocks\nUtworzone: 2012-04-20T13:10:49Z\nUaktualnione: 2021-04-07T08:41:27Z\nOpis: None\n\nNazwa: manim\nWłaściciel: 3b1b\nGwiazdki: 32575\nRezpozytorium: https://github.com/3b1b/manim\nUtworzone: 2015-03-22T18:50:58Z\nUaktualnione: 2021-04-07T11:04:23Z\nOpis: Animation engine for explanatory math videos\n\nNazwa: interview_internal_reference\nWłaściciel: 0voice\nGwiazdki: 30986\nRezpozytorium: https://github.com/0voice/interview_internal_reference\nUtworzone: 2019-06-10T06:54:19Z\nUaktualnione: 2021-04-07T11:03:59Z\nOpis: 2021年最新总结，阿里，腾讯，百度，美团，头条等技术面试题目，以及答案，专家出题人分析汇总。\n\nNazwa: XX-Net\nWłaściciel: XX-net\nGwiazdki: 30628\nRezpozytorium: https://github.com/XX-net/XX-Net\nUtworzone: 2015-01-15T09:35:51Z\nUaktualnione: 2021-04-07T04:49:43Z\nOpis: A proxy tool to bypass GFW.\n\nNazwa: CppCoreGuidelines\nWłaściciel: isocpp\nGwiazdki: 30388\nRezpozytorium: https://github.com/isocpp/CppCoreGuidelines\nUtworzone: 2015-08-19T20:22:52Z\nUaktualnione: 2021-04-07T08:09:47Z\nOpis: The C++ Core Guidelines are a set of tried-and-true guidelines, rules, and best practices about coding in C++\n\nNazwa: Deep-Learning-Papers-Reading-Roadmap\nWłaściciel: floodsung\nGwiazdki: 29598\nRezpozytorium: https://github.com/floodsung/Deep-Learning-Papers-Reading-Roadmap\nUtworzone: 2016-10-14T11:49:48Z\nUaktualnione: 2021-04-07T08:20:39Z\nOpis: Deep Learning papers reading roadmap for anyone who are eager to learn this amazing tech!\n\nNazwa: localstack\nWłaściciel: localstack\nGwiazdki: 29498\nRezpozytorium: https://github.com/localstack/localstack\nUtworzone: 2016-10-25T23:48:03Z\nUaktualnione: 2021-04-07T10:07:54Z\nOpis: 💻  A fully functional local AWS cloud stack. Develop and test your cloud & Serverless apps offline!\n\nNazwa: python-patterns\nWłaściciel: faif\nGwiazdki: 28019\nRezpozytorium: https://github.com/faif/python-patterns\nUtworzone: 2012-06-06T21:02:35Z\nUaktualnione: 2021-04-07T08:33:15Z\nOpis: A collection of design patterns/idioms in Python\n\nNazwa: certbot\nWłaściciel: certbot\nGwiazdki: 27875\nRezpozytorium: https://github.com/certbot/certbot\nUtworzone: 2014-11-12T02:52:20Z\nUaktualnione: 2021-04-07T09:44:32Z\nOpis: Certbot is EFF's tool to obtain certs from Let's Encrypt and (optionally) auto-enable HTTPS on your server.  It can also act as a client for any other CA that uses the ACME protocol.\n\nNazwa: sentry\nWłaściciel: getsentry\nGwiazdki: 27712\nRezpozytorium: https://github.com/getsentry/sentry\nUtworzone: 2010-08-30T22:06:41Z\nUaktualnione: 2021-04-07T10:13:52Z\nOpis: Sentry is cross-platform application monitoring, with a focus on error reporting.\n\nNazwa: bert\nWłaściciel: google-research\nGwiazdki: 27546\nRezpozytorium: https://github.com/google-research/bert\nUtworzone: 2018-10-25T22:57:34Z\nUaktualnione: 2021-04-07T10:46:55Z\nOpis: TensorFlow code and pre-trained models for BERT\n\nNazwa: wtfpython\nWłaściciel: satwikkansal\nGwiazdki: 26400\nRezpozytorium: https://github.com/satwikkansal/wtfpython\nUtworzone: 2017-08-28T20:22:19Z\nUaktualnione: 2021-04-07T10:02:03Z\nOpis: What the f*ck Python? 😱\n\nNazwa: jieba\nWłaściciel: fxsjy\nGwiazdki: 25923\nRezpozytorium: https://github.com/fxsjy/jieba\nUtworzone: 2012-09-29T07:52:01Z\nUaktualnione: 2021-04-07T11:01:00Z\nOpis: 结巴中文分词\n\nNazwa: rich\nWłaściciel: willmcgugan\nGwiazdki: 25148\nRezpozytorium: https://github.com/willmcgugan/rich\nUtworzone: 2019-11-10T15:28:09Z\nUaktualnione: 2021-04-07T11:06:12Z\nOpis: Rich is a Python library for rich text and beautiful formatting in the terminal.\n\nNazwa: Detectron\nWłaściciel: facebookresearch\nGwiazdki: 24270\nRezpozytorium: https://github.com/facebookresearch/Detectron\nUtworzone: 2017-10-05T17:32:00Z\nUaktualnione: 2021-04-07T10:22:50Z\nOpis: FAIR's research platform for object detection research, implementing popular algorithms like Mask R-CNN and RetinaNet.\n\nNazwa: sherlock\nWłaściciel: sherlock-project\nGwiazdki: 24191\nRezpozytorium: https://github.com/sherlock-project/sherlock\nUtworzone: 2018-12-24T14:30:48Z\nUaktualnione: 2021-04-07T11:14:01Z\nOpis: 🔎 Hunt down social media accounts by username across social networks\n\n"
     ]
    }
   ],
   "source": [
    "print(\"\\nWybrane informacje o każdym repozytorium:\")\n",
    "\n",
    "for repo_dict in repo_dicts:\n",
    "    \n",
    "    print(f'Nazwa: {repo_dict[\"name\"]}')\n",
    "    print(f'Właściciel: {repo_dict[\"owner\"][\"login\"]}')\n",
    "    print(f'Gwiazdki: { repo_dict[\"stargazers_count\"]}')\n",
    "    print(f'Rezpozytorium: {repo_dict[\"html_url\"]}')\n",
    "    print(f'Utworzone: {repo_dict[\"created_at\"]}')\n",
    "    print(f'Uaktualnione: {repo_dict[\"updated_at\"]}')\n",
    "    print(f'Opis: {repo_dict[\"description\"]}\\n')"
   ]
  },
  {
   "cell_type": "code",
   "execution_count": 67,
   "metadata": {},
   "outputs": [],
   "source": [
    "repo_names = [ repo_dict['name'] for repo_dict in repo_dicts]\n",
    "stars = [ repo_dict['stargazers_count'] for repo_dict in repo_dicts]\n",
    "labels = [ f\"{repo_dict['owner']['login']}<br />{repo_dict['description']}\" for repo_dict in repo_dicts]\n",
    "repo_links = [f\"<a href='{repo_dict['html_url']}'>{repo_dict['name']}</a>\" for repo_dict in repo_dicts]\n"
   ]
  },
  {
   "cell_type": "code",
   "execution_count": 68,
   "metadata": {},
   "outputs": [
    {
     "output_type": "execute_result",
     "data": {
      "text/plain": [
       "'python_repos.html'"
      ]
     },
     "metadata": {},
     "execution_count": 68
    }
   ],
   "source": [
    "data = [{\n",
    "    'type': 'bar',\n",
    "    'x': repo_links,\n",
    "    'y': stars,\n",
    "    'hovertext': labels, \n",
    "    'marker': {\n",
    "        'color': 'rgb(60,100,150)',\n",
    "         'line': {'width':1.5, 'color': 'rgb(25,25,25)'}\n",
    "    },\n",
    "    'opacity': 0.4,\n",
    "}]\n",
    "my_layout = {\n",
    "    'title': 'Oznaczone największą liczbą gwiazdek projekty Pythona w serwisie Github',\n",
    "    'titlefont': {'size': 28},\n",
    "    'xaxis': { 'title': 'Repozytorium',\n",
    "               'titlefont': {'size':24},\n",
    "               'tickfont': {'size': 14}\n",
    "             },\n",
    "    'yaxis': {'title': 'Gwiazdki',\n",
    "              'titlefont': {'size':24},\n",
    "              'tickfont': {'size': 14}\n",
    "              },\n",
    "}\n",
    "fig = {'data': data, 'layout':my_layout}\n",
    "offline.plot(fig, filename='python_repos.html')"
   ]
  },
  {
   "cell_type": "code",
   "execution_count": null,
   "metadata": {},
   "outputs": [],
   "source": []
  }
 ]
}